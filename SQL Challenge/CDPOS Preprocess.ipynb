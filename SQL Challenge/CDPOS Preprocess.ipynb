{
 "cells": [
  {
   "cell_type": "code",
   "execution_count": 1,
   "id": "dbb88756-77ef-4342-871f-6a1e49c9e2c6",
   "metadata": {},
   "outputs": [
    {
     "name": "stdout",
     "output_type": "stream",
     "text": [
      "     MANDANT OBJECTCLAS    OBJECTID    CHANGENR TABNAME              TABKEY  \\\n",
      "0        010  EINKBELEG  4700001106  0051867463    EKPO  010470000110600030   \n",
      "1        010  EINKBELEG  4700001106  0051867463    EKPO  010470000110600030   \n",
      "2        010  EINKBELEG  4700001106  0051873447    EKPO  010470000110600030   \n",
      "3        010  EINKBELEG  4700001106  0051873447    EKPO  010470000110600030   \n",
      "4        010  EINKBELEG  4700001106  0051874715    EKPO  010470000110600030   \n",
      "...      ...        ...         ...         ...     ...                 ...   \n",
      "2460     010  EINKBELEG  0072119260  0077732569    EKPO  010007211926000010   \n",
      "2461     010  EINKBELEG  0072119260  0077732569    EKPO  010007211926000010   \n",
      "2462     010  EINKBELEG  4700001512  0078247278    EKPO  010470000151200020   \n",
      "2463     010  EINKBELEG  4700001512  0078247278    EKPO  010470000151200020   \n",
      "2464     010  EINKBELEG  4700001512  0078247278    EKPO  010470000151200020   \n",
      "\n",
      "      FNAME CHNGIND       VALUE_NEW       VALUE_OLD  \n",
      "0     NETPR       U        25000.00        15000.00  \n",
      "1     NETWR       U        25000.00        15000.00  \n",
      "2     NETPR       U        50000.00        25000.00  \n",
      "3     NETWR       U        50000.00        25000.00  \n",
      "4     NETPR       U        25000.00        50000.00  \n",
      "...     ...     ...             ...             ...  \n",
      "2460  NETPR       U         5000.00         5100.00  \n",
      "2461  NETWR       U         5000.00         5100.00  \n",
      "2462  AFNAM       U               0             NaN  \n",
      "2463  NETPR       U        90000.00        60000.00  \n",
      "2464  NETWR       U        90000.00        60000.00  \n",
      "\n",
      "[2465 rows x 10 columns]\n"
     ]
    }
   ],
   "source": [
    "import pandas as pd\n",
    "\n",
    "# Let's check if the values are number\n",
    "def is_number(value):\n",
    "    try:\n",
    "        float(value)\n",
    "        return True\n",
    "    except ValueError:\n",
    "        return False\n",
    "\n",
    "# Load the CSV file\n",
    "input_file_path = \"C:/Users/h/Desktop/Challange Files/Challenge Files/CDPOS.csv\"\n",
    "output_file_path = 'CDPOS_clean.csv' \n",
    "\n",
    "# Read CSV and specify dtype for all columns as string, except for VALUE_OLD and VALUE_NEW to ensure data integrity\n",
    "dtypes = {\n",
    "    'MANDANT': str, 'OBJECTCLAS': str, 'OBJECTID': str, 'CHANGENR': str,\n",
    "    'TABNAME': str, 'TABKEY': str, 'FNAME': str, 'CHNGIND': str,\n",
    "    'VALUE_NEW': object, 'VALUE_OLD': object\n",
    "}\n",
    "\n",
    "CDPOS = pd.read_csv(input_file_path, dtype=dtypes, encoding='utf-8')\n",
    "\n",
    "# Replace non-numeric values in \"VALUE_NEW\" and \"VALUE_OLD\" columns with 0\n",
    "CDPOS ['VALUE_NEW'] = CDPOS ['VALUE_NEW'].apply(lambda x: x if is_number(x) else 0)\n",
    "CDPOS ['VALUE_OLD'] = CDPOS ['VALUE_OLD'].apply(lambda x: x if is_number(x) else 0)\n",
    "\n",
    "# Save the cleaned DataFrame to a new CSV file\n",
    "CDPOS.to_csv(output_file_path, index=False, encoding='utf-8')\n",
    "\n",
    "# Display the cleaned DataFrame to confirm changes\n",
    "print(CDPOS)"
   ]
  }
 ],
 "metadata": {
  "kernelspec": {
   "display_name": "Python 3 (ipykernel)",
   "language": "python",
   "name": "python3"
  },
  "language_info": {
   "codemirror_mode": {
    "name": "ipython",
    "version": 3
   },
   "file_extension": ".py",
   "mimetype": "text/x-python",
   "name": "python",
   "nbconvert_exporter": "python",
   "pygments_lexer": "ipython3",
   "version": "3.11.7"
  }
 },
 "nbformat": 4,
 "nbformat_minor": 5
}
